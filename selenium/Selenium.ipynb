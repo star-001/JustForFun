{
 "cells": [
  {
   "cell_type": "markdown",
   "metadata": {},
   "source": [
    "# 使用Python Selenium 进行网页自动化测试\n"
   ]
  },
  {
   "cell_type": "markdown",
   "metadata": {},
   "source": [
    "## 环境配置\n",
    "\n",
    "### 安装 selenium\n",
    "`pip install selenium`\n",
    "\n",
    "\n",
    "### 下载 webdriver\n",
    "\n"
   ]
  },
  {
   "cell_type": "markdown",
   "metadata": {},
   "source": [
    "## 基础使用\n"
   ]
  },
  {
   "cell_type": "markdown",
   "metadata": {},
   "source": [
    "## chrome 查找元素\n",
    "\n",
    "在目标网页上 Ctrl+Shfit+C 然后选中自己需要的元素(按钮/输入框/文本)，此时chrome右边栏会高亮该选中元素对应的html标签\n",
    "\n",
    "![img](imgs/select_element.png)\n",
    "鼠标右击高亮的标签\n",
    "\n",
    "![img](imgs/copy_selector.png)\n",
    "选择Copy\n",
    "    ->Copy Xpath\n",
    "该Xpath就是对应元素的选择器"
   ]
  },
  {
   "cell_type": "code",
   "execution_count": 2,
   "metadata": {},
   "outputs": [],
   "source": [
    "from selenium import webdriver\n",
    "import time\n",
    "\n",
    "brower = webdriver.Chrome()   #指定chromedriver路径\n",
    "brower.get('https://www.baidu.com')\n",
    "# brower.quit()\n",
    "\n",
    "\n"
   ]
  },
  {
   "cell_type": "code",
   "execution_count": null,
   "metadata": {},
   "outputs": [],
   "source": []
  }
 ],
 "metadata": {
  "kernelspec": {
   "display_name": "Python 3",
   "language": "python",
   "name": "python3"
  },
  "language_info": {
   "codemirror_mode": {
    "name": "ipython",
    "version": 3
   },
   "file_extension": ".py",
   "mimetype": "text/x-python",
   "name": "python",
   "nbconvert_exporter": "python",
   "pygments_lexer": "ipython3",
   "version": "3.8.3"
  }
 },
 "nbformat": 4,
 "nbformat_minor": 4
}
