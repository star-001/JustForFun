{
 "cells": [
  {
   "cell_type": "markdown",
   "metadata": {},
   "source": [
    "# 使用Python Selenium 进行网页自动化测试\n"
   ]
  },
  {
   "cell_type": "markdown",
   "metadata": {},
   "source": [
    "## 环境配置\n",
    "\n",
    "### 安装 selenium\n",
    "`pip install selenium`\n",
    "\n",
    "\n",
    "### 下载 webdriver\n",
    "\n"
   ]
  },
  {
   "cell_type": "markdown",
   "metadata": {},
   "source": [
    "## 基础使用\n"
   ]
  },
  {
   "cell_type": "markdown",
   "metadata": {},
   "source": [
    "## chrome 查找元素\n",
    "\n",
    "在目标网页上 Ctrl+Shfit+C 然后选中自己需要的元素(按钮/输入框/文本)，此时chrome右边栏会高亮该选中元素对应的html标签\n",
    "\n",
    "![img](imgs/select_element.png)\n",
    "鼠标右击高亮的标签\n",
    "\n",
    "![img](imgs/copy_selector.png)\n",
    "选择Copy\n",
    "    ->Copy Xpath\n",
    "该Xpath就是对应元素的选择器"
   ]
  },
  {
   "cell_type": "markdown",
   "metadata": {},
   "source": [
    "###使用Selenium的步骤\n",
    "1. 进入目标网页\n",
    "2. 找到需要操作的元素\n",
    "   ```python\n",
    "    browser.find_element_by_xpath()\n",
    "    或者\n",
    "    browser.find_element_by_css_selector()\n",
    " \n",
    "    ```\n",
    "3. 对元素进行操作<br>\n",
    "    操作元素的方式：\n",
    "    - 点击 click()\n",
    "    - 输入 send_keys(content) \n"
   ]
  },
  {
   "cell_type": "code",
   "execution_count": 4,
   "metadata": {},
   "outputs": [],
   "source": [
    "from selenium import webdriver\n",
    "import time\n",
    "\n",
    "\n",
    "browser = webdriver.Chrome()   #指定chromedriver路径\n",
    "browser.get('https://www.baidu.com')\n",
    "\n",
    "browser.find_element_by_xpath('//*[@id=\"kw\"]').send_keys('selenium')\n",
    "time.sleep(0.1)\n",
    "browser.find_element_by_xpath('//*[@id=\"su\"]').click()\n",
    "time.sleep(2)\n",
    "# brower.quit()\n",
    "\n",
    "\n"
   ]
  },
  {
   "cell_type": "code",
   "execution_count": null,
   "metadata": {},
   "outputs": [],
   "source": [
    "reports_ids = ['REP1',\"REP2\",\"REP3\"]\n",
    "\n",
    "def auto_test_report(report_id):\n",
    "    browser.find_element_by_xpath(f'//*[@id={report_id}]').send_keys('')\n",
    "    time.sleep(1)\n",
    "    browser.find_element_by_xpath(f'//*[@id={report_id}]').click()\n",
    "\n",
    "for rep in reports_ids:\n",
    "    auto_test_report(rep)\n"
   ]
  }
 ],
 "metadata": {
  "kernelspec": {
   "display_name": "Python 3",
   "language": "python",
   "name": "python3"
  },
  "language_info": {
   "codemirror_mode": {
    "name": "ipython",
    "version": 3
   },
   "file_extension": ".py",
   "mimetype": "text/x-python",
   "name": "python",
   "nbconvert_exporter": "python",
   "pygments_lexer": "ipython3",
   "version": "3.8.3"
  }
 },
 "nbformat": 4,
 "nbformat_minor": 4
}
